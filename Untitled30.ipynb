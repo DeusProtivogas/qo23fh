{
  "nbformat": 4,
  "nbformat_minor": 0,
  "metadata": {
    "colab": {
      "name": "Untitled30.ipynb",
      "provenance": []
    },
    "kernelspec": {
      "name": "python3",
      "display_name": "Python 3"
    },
    "language_info": {
      "name": "python"
    }
  },
  "cells": [
    {
      "cell_type": "markdown",
      "source": [
        "# Задание 1\n",
        "\n",
        "Данная функция\n",
        "\n",
        "Деление на 2 с остатком, если есть остаток - то число нечетное, иначе четное"
      ],
      "metadata": {
        "id": "3wsJ8pLxXsJl"
      }
    },
    {
      "cell_type": "code",
      "source": [
        "%%time\n",
        "\n",
        "def isEven(value):return value%2==0\n",
        "\n",
        "print(isEven(2))\n",
        "print(isEven(3))\n",
        "\n",
        "  \n",
        "for i in range(12345):\n",
        "  assert isEven(i) == customIsEven(i)"
      ],
      "metadata": {
        "colab": {
          "base_uri": "https://localhost:8080/"
        },
        "id": "E5KLKlLkMgiJ",
        "outputId": "8a4d865c-e3aa-424a-918e-951383ec34c8"
      },
      "execution_count": 26,
      "outputs": [
        {
          "output_type": "stream",
          "name": "stdout",
          "text": [
            "True\n",
            "False\n",
            "CPU times: user 9.5 ms, sys: 0 ns, total: 9.5 ms\n",
            "Wall time: 10.5 ms\n"
          ]
        }
      ]
    },
    {
      "cell_type": "markdown",
      "source": [
        "Реализация\n",
        "\n",
        "Выполнена путем побитового умножения на 1 (В нечетных числах, последний бит равен 1)\n",
        "\n",
        "Если число четное, то получаем 0, обращаем в True"
      ],
      "metadata": {
        "id": "_0i32G2FX0ug"
      }
    },
    {
      "cell_type": "code",
      "source": [
        "%%time\n",
        "def customIsEven(number):\n",
        "  return not(bool(number & 1))\n",
        "\n",
        "\n",
        "print(customIsEven(2))\n",
        "print(customIsEven(3))\n",
        "\n",
        "# Проверка на 123 числах\n",
        "for i in range(12345):\n",
        "  assert isEven(i) == customIsEven(i)"
      ],
      "metadata": {
        "colab": {
          "base_uri": "https://localhost:8080/"
        },
        "id": "qyAI1AysMwJg",
        "outputId": "4ca2e931-b356-445a-f2f0-3ae3f6b9b351"
      },
      "execution_count": 27,
      "outputs": [
        {
          "output_type": "stream",
          "name": "stdout",
          "text": [
            "True\n",
            "False\n",
            "CPU times: user 8.85 ms, sys: 0 ns, total: 8.85 ms\n",
            "Wall time: 8.63 ms\n"
          ]
        }
      ]
    },
    {
      "cell_type": "markdown",
      "source": [
        "На больших массивах, деление выполняется дороже, чем побитовое умножение, однако первая реализация проще в исполнении"
      ],
      "metadata": {
        "id": "nApqkUpiYzk9"
      }
    },
    {
      "cell_type": "markdown",
      "source": [
        "# Задание 2\n",
        "\n",
        "Реализация один, через список"
      ],
      "metadata": {
        "id": "8vR2AhTvZnIi"
      }
    },
    {
      "cell_type": "code",
      "source": [
        "class FIFO_one:\n",
        "  def __init__(self):\n",
        "    self.queue = []\n",
        "\n",
        "  def add(self, x):\n",
        "        return self.queue.insert(0, x)\n",
        "\n",
        "  def pop(self):\n",
        "      return self.queue.pop()\n",
        "  \n",
        "  def isEmpty(self):\n",
        "      return len(self.queue) == 0\n",
        "  \n",
        "  def head(self):\n",
        "      return self.queue[-1]\n",
        "  \n",
        "  def tail(self):\n",
        "      return self.queue[0]\n",
        "\n",
        "f = FIFO_one()\n",
        "f.add(1)\n",
        "f.add(2)\n",
        "f.add(3)\n",
        "print(f.queue)\n",
        "print(f.head())\n",
        "print(f.tail())\n",
        "\n",
        "print(f.pop())\n",
        "print(f.pop())\n",
        "print(f.pop())\n",
        "\n",
        "\n",
        "print(f.isEmpty())\n",
        "\n"
      ],
      "metadata": {
        "colab": {
          "base_uri": "https://localhost:8080/"
        },
        "id": "VDvbAO31PaIa",
        "outputId": "491dcf49-756b-4d06-8fbb-0b9016c04e31"
      },
      "execution_count": 16,
      "outputs": [
        {
          "output_type": "stream",
          "name": "stdout",
          "text": [
            "[3, 2, 1]\n",
            "1\n",
            "3\n",
            "1\n",
            "2\n",
            "3\n",
            "True\n"
          ]
        }
      ]
    },
    {
      "cell_type": "markdown",
      "source": [
        "\n",
        "Реализация два, через готовый список"
      ],
      "metadata": {
        "id": "1PLfyhGsZufj"
      }
    },
    {
      "cell_type": "code",
      "source": [
        "from collections import deque\n",
        "class FIFO_two:\n",
        "\n",
        "    def __init__(self):\n",
        "        self.queue = deque()\n",
        "\n",
        "    def add(self, x):\n",
        "        return self.queue.appendleft(x)\n",
        "    \n",
        "    def pop(self):\n",
        "        return self.queue.pop()\n",
        "    \n",
        "    def isEmpty(self):\n",
        "        return len(self.queue) == 0\n",
        "    \n",
        "    def head(self):\n",
        "        return self.queue[-1]\n",
        "    \n",
        "    def tail(self):\n",
        "        return self.queue[0]\n",
        "\n",
        "f = FIFO_two()\n",
        "f.add(1)\n",
        "f.add(2)\n",
        "f.add(3)\n",
        "print(f.queue)\n",
        "print(f.head())\n",
        "print(f.tail())\n",
        "\n",
        "print(f.pop())\n",
        "print(f.pop())\n",
        "print(f.pop())\n",
        "\n",
        "\n",
        "print(f.isEmpty())"
      ],
      "metadata": {
        "colab": {
          "base_uri": "https://localhost:8080/"
        },
        "id": "7qFGyg3mTSry",
        "outputId": "4180f1e2-3c09-4188-eb4f-61abeb4f1051"
      },
      "execution_count": 17,
      "outputs": [
        {
          "output_type": "stream",
          "name": "stdout",
          "text": [
            "deque([3, 2, 1])\n",
            "1\n",
            "3\n",
            "1\n",
            "2\n",
            "3\n",
            "True\n"
          ]
        }
      ]
    },
    {
      "cell_type": "markdown",
      "source": [
        "Для второй реализации необходима дополнительная библиотека, так что первая реализация может быть удобнее "
      ],
      "metadata": {
        "id": "mg3Vgz7jaMDV"
      }
    },
    {
      "cell_type": "markdown",
      "source": [
        "# Задание 3"
      ],
      "metadata": {
        "id": "EVFUc1aGaLi-"
      }
    },
    {
      "cell_type": "code",
      "source": [
        "import random\n",
        "\n",
        "def quicksort(nums):\n",
        "   if len(nums) <= 1:\n",
        "       return nums\n",
        "   else:\n",
        "       q = random.choice(nums)\n",
        "   l_nums = [n for n in nums if n < q]\n",
        " \n",
        "   e_nums = [q] * nums.count(q)\n",
        "   b_nums = [n for n in nums if n > q]\n",
        "   return quicksort(l_nums) + e_nums + quicksort(b_nums)\n",
        "\n",
        "quicksort([2, 4, 5, 1, 3])"
      ],
      "metadata": {
        "colab": {
          "base_uri": "https://localhost:8080/"
        },
        "id": "OxNvJnC4Tvgg",
        "outputId": "bd4bc42e-3e76-4a5e-a6bd-4be7a499e4e8"
      },
      "execution_count": 20,
      "outputs": [
        {
          "output_type": "execute_result",
          "data": {
            "text/plain": [
              "[1, 2, 3, 4, 5]"
            ]
          },
          "metadata": {},
          "execution_count": 20
        }
      ]
    },
    {
      "cell_type": "markdown",
      "source": [
        "В списка выбирается случайное число, строятся три списка - список с числами меньше выбранного, список с числами равными, и список с числами больше.\n",
        "\n",
        "Рекурсивно проводятся те же действия с массивами меньших и больших чисел, потом создается итоговый массив, из сортированных массивов чисел меньше, равных и больше."
      ],
      "metadata": {
        "id": "1kRV0NU-a-ho"
      }
    }
  ]
}